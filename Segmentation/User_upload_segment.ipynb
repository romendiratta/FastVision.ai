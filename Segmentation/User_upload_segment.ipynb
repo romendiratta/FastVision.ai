{
 "cells": [
  {
   "cell_type": "code",
   "execution_count": 5,
   "id": "3c08c9ba-4aa3-46c6-b24e-2e7628ff5061",
   "metadata": {},
   "outputs": [],
   "source": [
    "import numpy as np\n",
    "import pandas as pd\n",
    "import pickle\n",
    "import time\n",
    "import os\n",
    "import csv\n",
    "import shutil\n",
    "import sys\n",
    "import statistics\n",
    "\n",
    "import SimpleITK as sitk\n",
    "import matplotlib.pyplot as plt\n",
    "import pydicom\n",
    "import imageio\n",
    "import glob\n",
    "import boto3\n",
    "\n",
    "from lungmask import LMInferer"
   ]
  },
  {
   "cell_type": "code",
   "execution_count": 3,
   "id": "3b971912-bb7d-4ef2-99e2-87d56a3af16f",
   "metadata": {
    "tags": []
   },
   "outputs": [],
   "source": [
    "import torch\n",
    "torch.cuda.empty_cache()"
   ]
  },
  {
   "cell_type": "markdown",
   "id": "49894198-abb7-43b6-94b4-79b3091a5a7e",
   "metadata": {},
   "source": [
    "## Function to resample the CT scan volume to a given voxel size"
   ]
  },
  {
   "cell_type": "code",
   "execution_count": 94,
   "id": "3a6b77e8-0e5a-4a5f-a79a-4f58b7847bb6",
   "metadata": {},
   "outputs": [],
   "source": [
    "def resample_volume(volume_path, interpolator = sitk.sitkLinear, new_spacing = [1,1, 1]):\n",
    "    volume = sitk.ReadImage(volume_path) # read and cast to float32\n",
    "    original_spacing = volume.GetSpacing()\n",
    "    original_size = volume.GetSize()\n",
    "    new_size = [int(round(osz*ospc/nspc)) for osz,ospc,nspc in zip(original_size, original_spacing, new_spacing)]\n",
    "    return sitk.Resample(volume, new_size, sitk.Transform(), interpolator,\n",
    "                         volume.GetOrigin(), new_spacing, volume.GetDirection(), interpolator,\n",
    "                         volume.GetPixelID())"
   ]
  },
  {
   "cell_type": "markdown",
   "id": "5e36cfde-0f7f-463c-b6b2-ae7934c308d2",
   "metadata": {},
   "source": [
    "## Functions to Segment Lungs from CT Scan"
   ]
  },
  {
   "cell_type": "code",
   "execution_count": 11,
   "id": "05d782fd-8bdc-452a-a61c-a2d9279137e9",
   "metadata": {},
   "outputs": [],
   "source": [
    "def segmented_inferer_volume(ct_scan,offset=0):\n",
    "    '''\n",
    "    Input is 3D numpy array of original CT scan and output is 3D numpy array of segmented volume\n",
    "    '''\n",
    "    #Defines numpy offset to allow segmentation to work across different datasets (LUNA16 doesn't need)\n",
    "    ct_scan -= offset\n",
    "    lung_mask_volume = inferer_mask(ct_scan)\n",
    "    segmented_slices = []\n",
    "    tracker = []\n",
    "    for slice_idx in range(ct_scan.shape[0]):\n",
    "        ct_slice = ct_scan[slice_idx, :, :]\n",
    "        lung_mask_slice = lung_mask_volume[slice_idx, :, :]\n",
    "        masked_slice = np.where(lung_mask_slice != 0, ct_slice, np.min(ct_slice))\n",
    "        segmented_slices.append(masked_slice)\n",
    "        \n",
    "        #keeps track of value ranges only in lungs\n",
    "        tracker_slice = np.where(lung_mask_slice != 0, ct_slice, -99999)\n",
    "        tracker.append(tracker_slice)\n",
    "        \n",
    "    segmented_slices = np.stack(segmented_slices, axis=0)\n",
    "    \n",
    "    # Concatenate the arrays into a single array\n",
    "    concatenated_array = np.concatenate(tracker)\n",
    "    \n",
    "    # Filter the array to exclude values equal to -99999\n",
    "    concatenated_array  = concatenated_array[concatenated_array  != -99999]\n",
    "\n",
    "    # Find the minimum and maximum values inside lung volume\n",
    "    min_value = np.min(concatenated_array)\n",
    "    max_value = np.max(concatenated_array)\n",
    "\n",
    "    # Normalize the segmented volume to a range of 0 to 1\n",
    "    segmented_slices = (segmented_slices - min_value) / (max_value - min_value)\n",
    "    \n",
    "    #Replace background with 0's\n",
    "    background_value = segmented_slices[0][0][0]\n",
    "    segmented_slices = np.where(segmented_slices == background_value, 0, segmented_slices)\n",
    "    \n",
    "    \n",
    "    return segmented_slices"
   ]
  },
  {
   "cell_type": "code",
   "execution_count": 24,
   "id": "302f9755-54d0-4e15-aa5a-308dcd902d50",
   "metadata": {
    "tags": []
   },
   "outputs": [],
   "source": [
    "def inferer_mask(ct_scan_volume, offset=0):\n",
    "    '''\n",
    "    Input is 3D numpy array of original CT scan and output is 3D numpy array of generated mask\n",
    "    '''\n",
    "    inferer = LMInferer()\n",
    "    #Defines numpy offset to allow segmentation to work across different datasets (LUNA16 doesn't need)\n",
    "    ct_scan_volume -= offset\n",
    "    mask_slices = []\n",
    "    lung_mask_volume = inferer.apply(ct_scan_volume)\n",
    "    for slice_idx in range(ct_scan_volume.shape[0]):\n",
    "        mask_slices.append(lung_mask_volume[slice_idx, :, :])\n",
    "\n",
    "    mask_slices = np.stack(mask_slices, axis=0)\n",
    "    \n",
    "    return mask_slices"
   ]
  },
  {
   "cell_type": "code",
   "execution_count": 13,
   "id": "5468df10-dd70-416e-99e2-8705525e4463",
   "metadata": {},
   "outputs": [],
   "source": [
    "def remove_blank_slices(segmented_ct_scan,ct_scan=None):\n",
    "    '''\n",
    "    Input is 3D numpy array of segmented volume and output is numpy array slices that only contain lung volume\n",
    "    \n",
    "    If ct_scan file is added, it will remove the correlated slice from the original CT scan for comparison\n",
    "    '''\n",
    "    segment_result = []\n",
    "    ct = []\n",
    "    # Iterate through each slice \n",
    "    for slice_2d in range(segmented_ct_scan.shape[0]):\n",
    "        # Check if all elements in the slice have the same value\n",
    "        if not np.all(segmented_ct_scan[slice_2d] == segmented_ct_scan[slice_2d][0]):\n",
    "            segment_result.append(segmented_ct_scan[slice_2d, :, :])\n",
    "            if ct_scan is not None:\n",
    "                ct.append(ct_scan[slice_2d, :, :])\n",
    "\n",
    "    # Convert the result back to a NumPy array\n",
    "    segment_result = np.stack(segment_result, axis=0)\n",
    "    \n",
    "    if ct_scan is not None:\n",
    "        ct = np.stack(ct, axis=0)\n",
    "        return segment_result, ct\n",
    "    else:\n",
    "        return segment_result"
   ]
  },
  {
   "cell_type": "markdown",
   "id": "b827b422-6190-4b59-bbfa-c47816e01b8b",
   "metadata": {},
   "source": [
    "## Check Contents of Upload Folder"
   ]
  },
  {
   "cell_type": "code",
   "execution_count": 14,
   "id": "bde1a3d3-bfb4-4808-b816-8e5ca57ca9d2",
   "metadata": {},
   "outputs": [],
   "source": [
    "def check_dicom_folder(dicom_dir):\n",
    "    # Check if the directory contains .dcm files\n",
    "    dicom_files = [file for file in os.listdir(dicom_dir) if file.endswith(\".dcm\")]\n",
    "    if not dicom_files:\n",
    "        print(f\"No DICOM files found in directory: {dicom_dir}\")\n",
    "        return\n",
    "\n",
    "    # Check if the folder has more than 10 files\n",
    "    if len(dicom_files) <= 10:\n",
    "        print(f\"Insufficient number of files in directory: {dicom_dir}\")\n",
    "        return\n",
    "    \n",
    "    # Load all DICOM files in the directory\n",
    "    dicom_files = [pydicom.dcmread(os.path.join(dicom_dir, file)) for file in dicom_files]\n",
    "\n",
    "    # Sort the DICOM files based on the filename\n",
    "    dicom_files.sort(key=lambda x: x.filename)\n",
    "\n",
    "    # Get the pixel arrays from the DICOM files\n",
    "    slices = [dicom_file.pixel_array for dicom_file in dicom_files]\n",
    "\n",
    "    # Convert the list of pixel arrays to a 3D numpy array\n",
    "    ct_scan = np.stack(slices)\n",
    "\n",
    "    return ct_scan"
   ]
  },
  {
   "cell_type": "markdown",
   "id": "c5d30f5a-9351-44f8-afde-0db1d4ba49b3",
   "metadata": {},
   "source": [
    "## Pull Metadata from .DCM files"
   ]
  },
  {
   "cell_type": "code",
   "execution_count": 78,
   "id": "37981c4d-010d-49d3-bcfa-7f990bfbc150",
   "metadata": {
    "tags": []
   },
   "outputs": [],
   "source": [
    "def process_dicom_folder(dicom_dir):\n",
    "    # Check if the directory contains .dcm files\n",
    "    dicom_files = [file for file in os.listdir(dicom_dir) if file.endswith(\".dcm\")]\n",
    "\n",
    "    # Load all DICOM files in the directory\n",
    "    dicom_files = [pydicom.dcmread(os.path.join(dicom_dir, file)) for file in dicom_files]\n",
    "\n",
    "    # Sort the DICOM files based on the filename\n",
    "    dicom_files.sort(key=lambda x: x.filename)\n",
    "\n",
    "    # Get the pixel arrays from the DICOM files\n",
    "    slices = [dicom_file.pixel_array.astype(np.int16) for dicom_file in dicom_files]\n",
    "\n",
    "    # Convert the list of pixel arrays to a 3D numpy array\n",
    "    ct_scan = np.stack(slices)\n",
    "    \n",
    "    # Ensure that no value exceeds 5000\n",
    "    ct_scan = np.clip(ct_scan, a_min=None, a_max=5000)\n",
    "\n",
    "    # Normalize the values to a range between -3000 and 3000\n",
    "    #ct_scan = ((ct_scan - ct_scan.min()) / (ct_scan.max() - ct_scan.min())) * 2000 - 1000\n",
    "    \n",
    "    dicom = pydicom.dcmread((os.path.join(dicom_dir, os.listdir(dicom_dir)[0])))\n",
    "    \n",
    "    thickness = float(dicom.SliceThickness)\n",
    "    pixel_x, pixel_y = dicom.PixelSpacing\n",
    "    \n",
    "    spacing = (float(pixel_x),float(pixel_y), float(thickness))\n",
    "    \n",
    "    origins_x = [dicom_file.ImagePositionPatient[0] for dicom_file in dicom_files]\n",
    "    origins_y = [dicom_file.ImagePositionPatient[1] for dicom_file in dicom_files]\n",
    "    origins_z = [dicom_file.ImagePositionPatient[2] for dicom_file in dicom_files]\n",
    "    \n",
    "    origin = (float(statistics.mean(origins_x)), float(statistics.mean(origins_y)),float(statistics.mean(origins_z)))\n",
    "\n",
    "    print('Min:', ct_scan.min())\n",
    "    print('Max:', ct_scan.max())\n",
    "    print('origin:', origin)\n",
    "    print('spacing:', spacing)\n",
    "    return ct_scan, origin, spacing"
   ]
  },
  {
   "cell_type": "markdown",
   "id": "0d846b3b-e6a7-4522-b31c-8b9c49ce9d51",
   "metadata": {},
   "source": [
    "## Segment function to Call "
   ]
  },
  {
   "cell_type": "code",
   "execution_count": 105,
   "id": "6eff5e5f-8bc2-4f92-bb47-1cb088929274",
   "metadata": {
    "tags": []
   },
   "outputs": [],
   "source": [
    "def segment_single_scan(root_dir,output_file_path,mhd_file_name,voxel_size=2):\n",
    "    #Initialize lungmask inferer\n",
    "    inferer = LMInferer()\n",
    "\n",
    "    # Get a list of all files in the root directory\n",
    "    all_files = os.listdir(root_dir)\n",
    "\n",
    "    # Filter DICOM files\n",
    "    dicom_files = [filename for filename in all_files if filename.endswith(\".dcm\")]\n",
    "\n",
    "    # Filter mhd files\n",
    "    mhd_files = [filename for filename in all_files if filename.endswith(\".mhd\")]\n",
    "\n",
    "    cube_length = 512/voxel_size\n",
    "\n",
    "    # Check if there are any DICOM files in the root_dir\n",
    "    if len(dicom_files) > 0 and len(dicom_files) == len(all_files):\n",
    "        print(\"Segmenting .dcm files...\")\n",
    "        mhd_file = check_dicom_folder(root_dir)\n",
    "        if isinstance(mhd_file, np.ndarray):\n",
    "            mhd_file, origin, spacing = process_dicom_folder(root_dir)\n",
    "            image_sitk = sitk.GetImageFromArray(mhd_file)\n",
    "            sitk.WriteImage(image_sitk, output_file_path + '/'+ mhd_file_name +'.mhd')\n",
    "            volume = sitk.ReadImage( output_file_path +  '/'+ mhd_file_name+'.mhd') # read and cast to float32\n",
    "            volume = sitk.Cast(volume, sitk.sitkInt16)\n",
    "            volume.SetSpacing(spacing)\n",
    "            volume.SetOrigin(origin)\n",
    "            sitk.WriteImage(volume, output_file_path +'/'+ mhd_file_name +'.mhd')\n",
    "            # Use glob to retrieve a list of .mhd file paths within the input folder\n",
    "            mhd_file_paths = glob.glob(os.path.join(output_file_path, '*.mhd'))\n",
    "\n",
    "    elif len(mhd_files) > 0 and len(dicom_files)==0:\n",
    "        print(\"Segmenting .mhd file...\")\n",
    "        mhd_file_paths = glob.glob(os.path.join(root_dir, '*.mhd'))\n",
    "\n",
    "    elif len(mhd_files) > 0 and len(dicom_files) > 0:\n",
    "        print(\"Folder contains both .mhd and .dcm files. Please upload only one scan at a time.\")\n",
    "        sys.exit()\n",
    "\n",
    "    # Normalize voxel size for each file, segment lungs, and save as new file\n",
    "    for file_path in mhd_file_paths:\n",
    "        ct_scan_resampled = resample_volume(file_path,new_spacing = [voxel_size, voxel_size, voxel_size])\n",
    "        #file_name = os.path.basename(file_path)  # Get the file name\n",
    "        #output_file_path = os.path.join(output_folder_path, file_name)\n",
    "        #sitk.WriteImage(ct_scan_resampled, output_file_path)\n",
    "        ct_scan_resampled = np.array(sitk.GetArrayFromImage(ct_scan_resampled), dtype=np.int16)\n",
    "\n",
    "        min_value = ct_scan_resampled.min()\n",
    "        max_value = ct_scan_resampled.max()\n",
    "        ct_scan_resampled = 6000 * ((ct_scan_resampled - min_value) / (max_value - min_value)) - 3000\n",
    "\n",
    "        unet_segmented_volume = segmented_inferer_volume(ct_scan_resampled)\n",
    "        unet_trimmed_volume = remove_blank_slices(unet_segmented_volume)\n",
    "        min_value = np.min(unet_trimmed_volume)\n",
    "\n",
    "        # Define the target shape\n",
    "        target_shape = (int(cube_length), int(cube_length), int(cube_length))\n",
    "\n",
    "        # Calculate the required padding for each dimension\n",
    "        pad_depth = max(target_shape[0] - unet_trimmed_volume.shape[0], 0)\n",
    "        pad_height = max(target_shape[1] - unet_trimmed_volume.shape[1], 0)\n",
    "        pad_width = max(target_shape[2] - unet_trimmed_volume.shape[2], 0)\n",
    "\n",
    "        # Calculate the padding amounts for each side of each dimension\n",
    "        pad_depth_before = pad_depth // 2\n",
    "        pad_depth_after = pad_depth - pad_depth_before\n",
    "\n",
    "        pad_height_before = pad_height // 2\n",
    "        pad_height_after = pad_height - pad_height_before\n",
    "\n",
    "        pad_width_before = pad_width // 2\n",
    "        pad_width_after = pad_width - pad_width_before\n",
    "\n",
    "        # Pad the array with the minimum value\n",
    "        padded_data = np.pad(unet_trimmed_volume, ((pad_depth_before, pad_depth_after), (pad_height_before, pad_height_after), (pad_width_before, pad_width_after)), mode='constant', constant_values=min_value)\n",
    "\n",
    "        #normalize all values to be between 0 and 1\n",
    "        padded_data_norm = (padded_data-np.min(padded_data))/(np.max(padded_data)-np.min(padded_data))\n",
    "\n",
    "        image_sitk = sitk.GetImageFromArray(padded_data_norm)\n",
    "        #image_sitk = sitk.Cast(image_sitk, sitk.sitkInt16)\n",
    "        sitk.WriteImage(image_sitk, output_file_path + '/' + mhd_file_name+'_segmented.mhd')\n",
    "        print('done')\n"
   ]
  },
  {
   "cell_type": "markdown",
   "id": "4dbc7da8-a2b8-4592-a817-f6118ffe95e2",
   "metadata": {},
   "source": [
    "## Testing Cells"
   ]
  },
  {
   "cell_type": "code",
   "execution_count": null,
   "id": "867e4a83-c9f8-4e0b-922f-1254ff737b70",
   "metadata": {},
   "outputs": [],
   "source": [
    "#segment_single_scan('Radiogenomics/user_input_test_mhd', 'Radiogenomics/user_output_test', 'test', 1)   "
   ]
  },
  {
   "cell_type": "code",
   "execution_count": 107,
   "id": "54cc3420-1867-4761-866a-c3569ef9a5b3",
   "metadata": {
    "tags": []
   },
   "outputs": [],
   "source": [
    "#segment_single_scan('SPIE/testing/4.000000-HIGH RES-47.17', 'SPIE/test_out', 'test', 1)   "
   ]
  },
  {
   "cell_type": "code",
   "execution_count": null,
   "id": "46593368-2c1b-4d53-acd2-cc083b34ad58",
   "metadata": {},
   "outputs": [],
   "source": [
    "'''\n",
    "mhd_file = sitk.ReadImage('SPIE/test_out/test_segmented.mhd')\n",
    "ct_scan = np.array(sitk.GetArrayFromImage(mhd_file), dtype=np.float32)\n",
    "print(ct_scan.shape)\n",
    "print(ct_scan.max())\n",
    "print(ct_scan.min())\n",
    "print(mhd_file.GetSpacing())\n",
    "print(mhd_file.GetSize())\n",
    "print(mhd_file.GetOrigin())\n",
    "print(mhd_file.GetDirection())\n",
    "print(mhd_file.GetPixelID())\n",
    "\n",
    "# Displays an image slice\n",
    "plt.imshow(ct_scan[270], cmap='gray')\n",
    "plt.show()\n",
    "'''\n",
    "\n",
    "#ct_seg = segmented_inferer_volume(ct_scan,offset=2000)\n",
    "# Displays an image slice\n",
    "#plt.imshow(ct_seg[120], cmap='gray')\n",
    "#plt.show()"
   ]
  },
  {
   "cell_type": "code",
   "execution_count": null,
   "id": "803e6cf4-1153-4952-a746-36271d1035c0",
   "metadata": {},
   "outputs": [],
   "source": []
  }
 ],
 "metadata": {
  "availableInstances": [
   {
    "_defaultOrder": 0,
    "_isFastLaunch": true,
    "category": "General purpose",
    "gpuNum": 0,
    "hideHardwareSpecs": false,
    "memoryGiB": 4,
    "name": "ml.t3.medium",
    "vcpuNum": 2
   },
   {
    "_defaultOrder": 1,
    "_isFastLaunch": false,
    "category": "General purpose",
    "gpuNum": 0,
    "hideHardwareSpecs": false,
    "memoryGiB": 8,
    "name": "ml.t3.large",
    "vcpuNum": 2
   },
   {
    "_defaultOrder": 2,
    "_isFastLaunch": false,
    "category": "General purpose",
    "gpuNum": 0,
    "hideHardwareSpecs": false,
    "memoryGiB": 16,
    "name": "ml.t3.xlarge",
    "vcpuNum": 4
   },
   {
    "_defaultOrder": 3,
    "_isFastLaunch": false,
    "category": "General purpose",
    "gpuNum": 0,
    "hideHardwareSpecs": false,
    "memoryGiB": 32,
    "name": "ml.t3.2xlarge",
    "vcpuNum": 8
   },
   {
    "_defaultOrder": 4,
    "_isFastLaunch": true,
    "category": "General purpose",
    "gpuNum": 0,
    "hideHardwareSpecs": false,
    "memoryGiB": 8,
    "name": "ml.m5.large",
    "vcpuNum": 2
   },
   {
    "_defaultOrder": 5,
    "_isFastLaunch": false,
    "category": "General purpose",
    "gpuNum": 0,
    "hideHardwareSpecs": false,
    "memoryGiB": 16,
    "name": "ml.m5.xlarge",
    "vcpuNum": 4
   },
   {
    "_defaultOrder": 6,
    "_isFastLaunch": false,
    "category": "General purpose",
    "gpuNum": 0,
    "hideHardwareSpecs": false,
    "memoryGiB": 32,
    "name": "ml.m5.2xlarge",
    "vcpuNum": 8
   },
   {
    "_defaultOrder": 7,
    "_isFastLaunch": false,
    "category": "General purpose",
    "gpuNum": 0,
    "hideHardwareSpecs": false,
    "memoryGiB": 64,
    "name": "ml.m5.4xlarge",
    "vcpuNum": 16
   },
   {
    "_defaultOrder": 8,
    "_isFastLaunch": false,
    "category": "General purpose",
    "gpuNum": 0,
    "hideHardwareSpecs": false,
    "memoryGiB": 128,
    "name": "ml.m5.8xlarge",
    "vcpuNum": 32
   },
   {
    "_defaultOrder": 9,
    "_isFastLaunch": false,
    "category": "General purpose",
    "gpuNum": 0,
    "hideHardwareSpecs": false,
    "memoryGiB": 192,
    "name": "ml.m5.12xlarge",
    "vcpuNum": 48
   },
   {
    "_defaultOrder": 10,
    "_isFastLaunch": false,
    "category": "General purpose",
    "gpuNum": 0,
    "hideHardwareSpecs": false,
    "memoryGiB": 256,
    "name": "ml.m5.16xlarge",
    "vcpuNum": 64
   },
   {
    "_defaultOrder": 11,
    "_isFastLaunch": false,
    "category": "General purpose",
    "gpuNum": 0,
    "hideHardwareSpecs": false,
    "memoryGiB": 384,
    "name": "ml.m5.24xlarge",
    "vcpuNum": 96
   },
   {
    "_defaultOrder": 12,
    "_isFastLaunch": false,
    "category": "General purpose",
    "gpuNum": 0,
    "hideHardwareSpecs": false,
    "memoryGiB": 8,
    "name": "ml.m5d.large",
    "vcpuNum": 2
   },
   {
    "_defaultOrder": 13,
    "_isFastLaunch": false,
    "category": "General purpose",
    "gpuNum": 0,
    "hideHardwareSpecs": false,
    "memoryGiB": 16,
    "name": "ml.m5d.xlarge",
    "vcpuNum": 4
   },
   {
    "_defaultOrder": 14,
    "_isFastLaunch": false,
    "category": "General purpose",
    "gpuNum": 0,
    "hideHardwareSpecs": false,
    "memoryGiB": 32,
    "name": "ml.m5d.2xlarge",
    "vcpuNum": 8
   },
   {
    "_defaultOrder": 15,
    "_isFastLaunch": false,
    "category": "General purpose",
    "gpuNum": 0,
    "hideHardwareSpecs": false,
    "memoryGiB": 64,
    "name": "ml.m5d.4xlarge",
    "vcpuNum": 16
   },
   {
    "_defaultOrder": 16,
    "_isFastLaunch": false,
    "category": "General purpose",
    "gpuNum": 0,
    "hideHardwareSpecs": false,
    "memoryGiB": 128,
    "name": "ml.m5d.8xlarge",
    "vcpuNum": 32
   },
   {
    "_defaultOrder": 17,
    "_isFastLaunch": false,
    "category": "General purpose",
    "gpuNum": 0,
    "hideHardwareSpecs": false,
    "memoryGiB": 192,
    "name": "ml.m5d.12xlarge",
    "vcpuNum": 48
   },
   {
    "_defaultOrder": 18,
    "_isFastLaunch": false,
    "category": "General purpose",
    "gpuNum": 0,
    "hideHardwareSpecs": false,
    "memoryGiB": 256,
    "name": "ml.m5d.16xlarge",
    "vcpuNum": 64
   },
   {
    "_defaultOrder": 19,
    "_isFastLaunch": false,
    "category": "General purpose",
    "gpuNum": 0,
    "hideHardwareSpecs": false,
    "memoryGiB": 384,
    "name": "ml.m5d.24xlarge",
    "vcpuNum": 96
   },
   {
    "_defaultOrder": 20,
    "_isFastLaunch": false,
    "category": "General purpose",
    "gpuNum": 0,
    "hideHardwareSpecs": true,
    "memoryGiB": 0,
    "name": "ml.geospatial.interactive",
    "supportedImageNames": [
     "sagemaker-geospatial-v1-0"
    ],
    "vcpuNum": 0
   },
   {
    "_defaultOrder": 21,
    "_isFastLaunch": true,
    "category": "Compute optimized",
    "gpuNum": 0,
    "hideHardwareSpecs": false,
    "memoryGiB": 4,
    "name": "ml.c5.large",
    "vcpuNum": 2
   },
   {
    "_defaultOrder": 22,
    "_isFastLaunch": false,
    "category": "Compute optimized",
    "gpuNum": 0,
    "hideHardwareSpecs": false,
    "memoryGiB": 8,
    "name": "ml.c5.xlarge",
    "vcpuNum": 4
   },
   {
    "_defaultOrder": 23,
    "_isFastLaunch": false,
    "category": "Compute optimized",
    "gpuNum": 0,
    "hideHardwareSpecs": false,
    "memoryGiB": 16,
    "name": "ml.c5.2xlarge",
    "vcpuNum": 8
   },
   {
    "_defaultOrder": 24,
    "_isFastLaunch": false,
    "category": "Compute optimized",
    "gpuNum": 0,
    "hideHardwareSpecs": false,
    "memoryGiB": 32,
    "name": "ml.c5.4xlarge",
    "vcpuNum": 16
   },
   {
    "_defaultOrder": 25,
    "_isFastLaunch": false,
    "category": "Compute optimized",
    "gpuNum": 0,
    "hideHardwareSpecs": false,
    "memoryGiB": 72,
    "name": "ml.c5.9xlarge",
    "vcpuNum": 36
   },
   {
    "_defaultOrder": 26,
    "_isFastLaunch": false,
    "category": "Compute optimized",
    "gpuNum": 0,
    "hideHardwareSpecs": false,
    "memoryGiB": 96,
    "name": "ml.c5.12xlarge",
    "vcpuNum": 48
   },
   {
    "_defaultOrder": 27,
    "_isFastLaunch": false,
    "category": "Compute optimized",
    "gpuNum": 0,
    "hideHardwareSpecs": false,
    "memoryGiB": 144,
    "name": "ml.c5.18xlarge",
    "vcpuNum": 72
   },
   {
    "_defaultOrder": 28,
    "_isFastLaunch": false,
    "category": "Compute optimized",
    "gpuNum": 0,
    "hideHardwareSpecs": false,
    "memoryGiB": 192,
    "name": "ml.c5.24xlarge",
    "vcpuNum": 96
   },
   {
    "_defaultOrder": 29,
    "_isFastLaunch": true,
    "category": "Accelerated computing",
    "gpuNum": 1,
    "hideHardwareSpecs": false,
    "memoryGiB": 16,
    "name": "ml.g4dn.xlarge",
    "vcpuNum": 4
   },
   {
    "_defaultOrder": 30,
    "_isFastLaunch": false,
    "category": "Accelerated computing",
    "gpuNum": 1,
    "hideHardwareSpecs": false,
    "memoryGiB": 32,
    "name": "ml.g4dn.2xlarge",
    "vcpuNum": 8
   },
   {
    "_defaultOrder": 31,
    "_isFastLaunch": false,
    "category": "Accelerated computing",
    "gpuNum": 1,
    "hideHardwareSpecs": false,
    "memoryGiB": 64,
    "name": "ml.g4dn.4xlarge",
    "vcpuNum": 16
   },
   {
    "_defaultOrder": 32,
    "_isFastLaunch": false,
    "category": "Accelerated computing",
    "gpuNum": 1,
    "hideHardwareSpecs": false,
    "memoryGiB": 128,
    "name": "ml.g4dn.8xlarge",
    "vcpuNum": 32
   },
   {
    "_defaultOrder": 33,
    "_isFastLaunch": false,
    "category": "Accelerated computing",
    "gpuNum": 4,
    "hideHardwareSpecs": false,
    "memoryGiB": 192,
    "name": "ml.g4dn.12xlarge",
    "vcpuNum": 48
   },
   {
    "_defaultOrder": 34,
    "_isFastLaunch": false,
    "category": "Accelerated computing",
    "gpuNum": 1,
    "hideHardwareSpecs": false,
    "memoryGiB": 256,
    "name": "ml.g4dn.16xlarge",
    "vcpuNum": 64
   },
   {
    "_defaultOrder": 35,
    "_isFastLaunch": false,
    "category": "Accelerated computing",
    "gpuNum": 1,
    "hideHardwareSpecs": false,
    "memoryGiB": 61,
    "name": "ml.p3.2xlarge",
    "vcpuNum": 8
   },
   {
    "_defaultOrder": 36,
    "_isFastLaunch": false,
    "category": "Accelerated computing",
    "gpuNum": 4,
    "hideHardwareSpecs": false,
    "memoryGiB": 244,
    "name": "ml.p3.8xlarge",
    "vcpuNum": 32
   },
   {
    "_defaultOrder": 37,
    "_isFastLaunch": false,
    "category": "Accelerated computing",
    "gpuNum": 8,
    "hideHardwareSpecs": false,
    "memoryGiB": 488,
    "name": "ml.p3.16xlarge",
    "vcpuNum": 64
   },
   {
    "_defaultOrder": 38,
    "_isFastLaunch": false,
    "category": "Accelerated computing",
    "gpuNum": 8,
    "hideHardwareSpecs": false,
    "memoryGiB": 768,
    "name": "ml.p3dn.24xlarge",
    "vcpuNum": 96
   },
   {
    "_defaultOrder": 39,
    "_isFastLaunch": false,
    "category": "Memory Optimized",
    "gpuNum": 0,
    "hideHardwareSpecs": false,
    "memoryGiB": 16,
    "name": "ml.r5.large",
    "vcpuNum": 2
   },
   {
    "_defaultOrder": 40,
    "_isFastLaunch": false,
    "category": "Memory Optimized",
    "gpuNum": 0,
    "hideHardwareSpecs": false,
    "memoryGiB": 32,
    "name": "ml.r5.xlarge",
    "vcpuNum": 4
   },
   {
    "_defaultOrder": 41,
    "_isFastLaunch": false,
    "category": "Memory Optimized",
    "gpuNum": 0,
    "hideHardwareSpecs": false,
    "memoryGiB": 64,
    "name": "ml.r5.2xlarge",
    "vcpuNum": 8
   },
   {
    "_defaultOrder": 42,
    "_isFastLaunch": false,
    "category": "Memory Optimized",
    "gpuNum": 0,
    "hideHardwareSpecs": false,
    "memoryGiB": 128,
    "name": "ml.r5.4xlarge",
    "vcpuNum": 16
   },
   {
    "_defaultOrder": 43,
    "_isFastLaunch": false,
    "category": "Memory Optimized",
    "gpuNum": 0,
    "hideHardwareSpecs": false,
    "memoryGiB": 256,
    "name": "ml.r5.8xlarge",
    "vcpuNum": 32
   },
   {
    "_defaultOrder": 44,
    "_isFastLaunch": false,
    "category": "Memory Optimized",
    "gpuNum": 0,
    "hideHardwareSpecs": false,
    "memoryGiB": 384,
    "name": "ml.r5.12xlarge",
    "vcpuNum": 48
   },
   {
    "_defaultOrder": 45,
    "_isFastLaunch": false,
    "category": "Memory Optimized",
    "gpuNum": 0,
    "hideHardwareSpecs": false,
    "memoryGiB": 512,
    "name": "ml.r5.16xlarge",
    "vcpuNum": 64
   },
   {
    "_defaultOrder": 46,
    "_isFastLaunch": false,
    "category": "Memory Optimized",
    "gpuNum": 0,
    "hideHardwareSpecs": false,
    "memoryGiB": 768,
    "name": "ml.r5.24xlarge",
    "vcpuNum": 96
   },
   {
    "_defaultOrder": 47,
    "_isFastLaunch": false,
    "category": "Accelerated computing",
    "gpuNum": 1,
    "hideHardwareSpecs": false,
    "memoryGiB": 16,
    "name": "ml.g5.xlarge",
    "vcpuNum": 4
   },
   {
    "_defaultOrder": 48,
    "_isFastLaunch": false,
    "category": "Accelerated computing",
    "gpuNum": 1,
    "hideHardwareSpecs": false,
    "memoryGiB": 32,
    "name": "ml.g5.2xlarge",
    "vcpuNum": 8
   },
   {
    "_defaultOrder": 49,
    "_isFastLaunch": false,
    "category": "Accelerated computing",
    "gpuNum": 1,
    "hideHardwareSpecs": false,
    "memoryGiB": 64,
    "name": "ml.g5.4xlarge",
    "vcpuNum": 16
   },
   {
    "_defaultOrder": 50,
    "_isFastLaunch": false,
    "category": "Accelerated computing",
    "gpuNum": 1,
    "hideHardwareSpecs": false,
    "memoryGiB": 128,
    "name": "ml.g5.8xlarge",
    "vcpuNum": 32
   },
   {
    "_defaultOrder": 51,
    "_isFastLaunch": false,
    "category": "Accelerated computing",
    "gpuNum": 1,
    "hideHardwareSpecs": false,
    "memoryGiB": 256,
    "name": "ml.g5.16xlarge",
    "vcpuNum": 64
   },
   {
    "_defaultOrder": 52,
    "_isFastLaunch": false,
    "category": "Accelerated computing",
    "gpuNum": 4,
    "hideHardwareSpecs": false,
    "memoryGiB": 192,
    "name": "ml.g5.12xlarge",
    "vcpuNum": 48
   },
   {
    "_defaultOrder": 53,
    "_isFastLaunch": false,
    "category": "Accelerated computing",
    "gpuNum": 4,
    "hideHardwareSpecs": false,
    "memoryGiB": 384,
    "name": "ml.g5.24xlarge",
    "vcpuNum": 96
   },
   {
    "_defaultOrder": 54,
    "_isFastLaunch": false,
    "category": "Accelerated computing",
    "gpuNum": 8,
    "hideHardwareSpecs": false,
    "memoryGiB": 768,
    "name": "ml.g5.48xlarge",
    "vcpuNum": 192
   },
   {
    "_defaultOrder": 55,
    "_isFastLaunch": false,
    "category": "Accelerated computing",
    "gpuNum": 8,
    "hideHardwareSpecs": false,
    "memoryGiB": 1152,
    "name": "ml.p4d.24xlarge",
    "vcpuNum": 96
   },
   {
    "_defaultOrder": 56,
    "_isFastLaunch": false,
    "category": "Accelerated computing",
    "gpuNum": 8,
    "hideHardwareSpecs": false,
    "memoryGiB": 1152,
    "name": "ml.p4de.24xlarge",
    "vcpuNum": 96
   }
  ],
  "instance_type": "ml.g4dn.2xlarge",
  "kernelspec": {
   "display_name": "Python 3 (Data Science)",
   "language": "python",
   "name": "python3__SAGEMAKER_INTERNAL__arn:aws:sagemaker:us-west-2:236514542706:image/datascience-1.0"
  },
  "language_info": {
   "codemirror_mode": {
    "name": "ipython",
    "version": 3
   },
   "file_extension": ".py",
   "mimetype": "text/x-python",
   "name": "python",
   "nbconvert_exporter": "python",
   "pygments_lexer": "ipython3",
   "version": "3.7.10"
  }
 },
 "nbformat": 4,
 "nbformat_minor": 5
}
