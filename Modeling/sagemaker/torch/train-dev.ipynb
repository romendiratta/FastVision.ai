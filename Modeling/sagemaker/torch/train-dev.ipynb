{
 "cells": [
  {
   "cell_type": "code",
   "execution_count": 7,
   "id": "8133dede-ca7b-41e5-a6ad-c5bd429c152a",
   "metadata": {
    "tags": []
   },
   "outputs": [],
   "source": [
    "import torch\n",
    "import torch.nn as nn\n",
    "import torch.distributed as dist\n",
    "import torch.nn.functional as F\n",
    "import torch.optim as optim\n",
    "import torch.utils.data\n",
    "import torch.utils.data.distributed\n",
    "from torchvision import datasets, transforms\n",
    "import numpy as np\n",
    "import pandas as pd"
   ]
  },
  {
   "cell_type": "code",
   "execution_count": 8,
   "id": "5e2e86be-536e-4203-b274-aef96e1dd966",
   "metadata": {
    "tags": []
   },
   "outputs": [],
   "source": [
    "!pip install -q SimpleITK\n",
    "import SimpleITK as sitk"
   ]
  },
  {
   "cell_type": "code",
   "execution_count": 1,
   "id": "6b8d1ae3-df41-490f-bbed-901817254094",
   "metadata": {
    "tags": []
   },
   "outputs": [],
   "source": [
    "!pip install -q torchsummary\n",
    "from torchsummary import summary"
   ]
  },
  {
   "cell_type": "code",
   "execution_count": 22,
   "id": "900d7132-e225-4b82-9656-df2d42050a9a",
   "metadata": {
    "tags": []
   },
   "outputs": [],
   "source": [
    "class ThreeDimCNN(nn.Module):\n",
    "    def __init__(self):\n",
    "        super(ThreeDimCNN, self).__init__()\n",
    "\n",
    "        self.conv1 = nn.Conv3d(1, 16, kernel_size=3, stride=1, padding=1)\n",
    "        # self.conv2 = nn.Conv3d(8, 16, kernel_size=3, stride=1, padding=1)\n",
    "        # self.conv3 = nn.Conv3d(16, 32, kernel_size=3, stride=1, padding=1)\n",
    "\n",
    "        self.pool = nn.MaxPool3d(kernel_size=8, stride=8)\n",
    "\n",
    "        self.dropout = nn.Dropout(p=0.2)\n",
    "\n",
    "        self.fc = nn.Linear(524288, 1)\n",
    "\n",
    "        self.relu = nn.ReLU()\n",
    "        self.sigmoid = nn.Sigmoid()\n",
    "\n",
    "        self.flatten = nn.Flatten()\n",
    "\n",
    "    def forward(self, x):\n",
    "        print(x.shape)\n",
    "        x = self.relu(self.conv1(x))\n",
    "        x = self.pool(x)\n",
    "\n",
    "#         x = self.relu(self.conv2(x))\n",
    "#         x = self.pool(x)\n",
    "\n",
    "#         x = self.relu(self.conv3(x))\n",
    "#         x = self.pool(x)\n",
    "        print(x.shape)\n",
    "\n",
    "        x = self.flatten(x)\n",
    "        print(x.shape)\n",
    "\n",
    "        x = self.fc(x)\n",
    "        x = self.dropout(x)\n",
    "        x = self.sigmoid(x)\n",
    "\n",
    "        return x"
   ]
  },
  {
   "cell_type": "code",
   "execution_count": 23,
   "id": "04f59848-195a-41c8-9c75-9e6c36db5016",
   "metadata": {
    "tags": []
   },
   "outputs": [
    {
     "name": "stdout",
     "output_type": "stream",
     "text": [
      "torch.Size([2, 1, 256, 256, 256])\n"
     ]
    }
   ],
   "source": [
    "device = torch.device(\"cpu\")\n",
    "ct_scan = sitk.ReadImage(\"./1.3.6.1.4.1.14519.5.2.1.6279.6001.100530488926682752765845212286.mhd\")\n",
    "data = sitk.GetArrayFromImage(ct_scan)\n",
    "data = np.expand_dims(data, 0)\n",
    "data = np.concatenate((data, data))\n",
    "# print(data.shape)\n",
    "data = torch.from_numpy(data).to(device)\n",
    "data = torch.unsqueeze(data, 1)\n",
    "print(data.shape)"
   ]
  },
  {
   "cell_type": "code",
   "execution_count": 24,
   "id": "4571dc1d-6c32-44b7-8119-b1ea35d24c8d",
   "metadata": {
    "tags": []
   },
   "outputs": [
    {
     "name": "stdout",
     "output_type": "stream",
     "text": [
      "torch.Size([2, 1, 256, 256, 256])\n",
      "torch.Size([2, 16, 32, 32, 32])\n",
      "torch.Size([2, 524288])\n",
      "tensor(0.6274)\n"
     ]
    }
   ],
   "source": [
    "loss_fn = nn.BCELoss()\n",
    "with torch.no_grad():\n",
    "    model = ThreeDimCNN().to(device)\n",
    "    label = torch.tensor([[1], [1]]).float().to(device)\n",
    "    output = model(data)\n",
    "    loss = loss_fn(output, label)\n",
    "    print(loss)\n"
   ]
  },
  {
   "cell_type": "code",
   "execution_count": 16,
   "id": "cb1a19ec-a24f-4c1c-9590-ee170848879e",
   "metadata": {
    "tags": []
   },
   "outputs": [
    {
     "name": "stdout",
     "output_type": "stream",
     "text": [
      "ThreeDimCNN(\n",
      "  (conv1): Conv3d(1, 16, kernel_size=(3, 3, 3), stride=(1, 1, 1), padding=(1, 1, 1))\n",
      "  (pool): MaxPool3d(kernel_size=4, stride=4, padding=0, dilation=1, ceil_mode=False)\n",
      "  (dropout): Dropout(p=0.2, inplace=False)\n",
      "  (fc): Linear(in_features=4194304, out_features=1, bias=True)\n",
      "  (relu): ReLU()\n",
      "  (sigmoid): Sigmoid()\n",
      "  (flatten): Flatten(start_dim=1, end_dim=-1)\n",
      ")\n"
     ]
    }
   ],
   "source": [
    "model = ThreeDimCNN().to(\"cpu\")\n",
    "\n",
    "print(model)"
   ]
  },
  {
   "cell_type": "code",
   "execution_count": null,
   "id": "afa838fc-87dd-4b6b-9c65-aba78dc10033",
   "metadata": {
    "tags": []
   },
   "outputs": [],
   "source": [
    "m = nn.Sigmoid()\n",
    "input = torch.randn(1)\n",
    "output = m(input)\n",
    "output"
   ]
  },
  {
   "cell_type": "code",
   "execution_count": null,
   "id": "52d3947f-ca42-4794-8037-0a3e19f78976",
   "metadata": {
    "tags": []
   },
   "outputs": [],
   "source": [
    "metadata = pd.read_csv(\"./metadata.csv\")"
   ]
  },
  {
   "cell_type": "code",
   "execution_count": null,
   "id": "64ee23c9-124f-4784-8185-d26c667d5c38",
   "metadata": {
    "tags": []
   },
   "outputs": [],
   "source": [
    "sample_metadata = metadata[metadata[\"class\"] == 0].sample(n=1)"
   ]
  },
  {
   "cell_type": "code",
   "execution_count": null,
   "id": "e69f0003-2c64-4754-a3dc-044c3ad63c8d",
   "metadata": {
    "tags": []
   },
   "outputs": [],
   "source": [
    "file_name = sample_metadata['seriesuid'].values[0]\n",
    "label = sample_metadata['class'].values[0]"
   ]
  },
  {
   "cell_type": "code",
   "execution_count": null,
   "id": "fdaa4bbe-87f7-4ff0-ab19-0bfa705c5e48",
   "metadata": {
    "tags": []
   },
   "outputs": [],
   "source": [
    "label"
   ]
  }
 ],
 "metadata": {
  "kernelspec": {
   "display_name": "conda_pytorch_p310",
   "language": "python",
   "name": "conda_pytorch_p310"
  },
  "language_info": {
   "codemirror_mode": {
    "name": "ipython",
    "version": 3
   },
   "file_extension": ".py",
   "mimetype": "text/x-python",
   "name": "python",
   "nbconvert_exporter": "python",
   "pygments_lexer": "ipython3",
   "version": "3.10.10"
  }
 },
 "nbformat": 4,
 "nbformat_minor": 5
}
