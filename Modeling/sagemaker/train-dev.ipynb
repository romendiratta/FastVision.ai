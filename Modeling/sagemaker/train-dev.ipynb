{
 "cells": [
  {
   "cell_type": "code",
   "execution_count": 3,
   "id": "561f27cc-ae84-4954-92ee-f8b856f9b2e0",
   "metadata": {
    "tags": []
   },
   "outputs": [
    {
     "name": "stdout",
     "output_type": "stream",
     "text": [
      "Looking in indexes: https://pypi.org/simple, https://pip.repos.neuron.amazonaws.com\n",
      "Requirement already satisfied: SimpleITK in /home/ec2-user/anaconda3/envs/tensorflow2_p310/lib/python3.10/site-packages (2.2.1)\n",
      "Looking in indexes: https://pypi.org/simple, https://pip.repos.neuron.amazonaws.com\n",
      "Requirement already satisfied: plotly in /home/ec2-user/anaconda3/envs/tensorflow2_p310/lib/python3.10/site-packages (5.14.1)\n",
      "Requirement already satisfied: tenacity>=6.2.0 in /home/ec2-user/anaconda3/envs/tensorflow2_p310/lib/python3.10/site-packages (from plotly) (8.2.2)\n",
      "Requirement already satisfied: packaging in /home/ec2-user/anaconda3/envs/tensorflow2_p310/lib/python3.10/site-packages (from plotly) (21.3)\n",
      "Requirement already satisfied: pyparsing!=3.0.5,>=2.0.2 in /home/ec2-user/anaconda3/envs/tensorflow2_p310/lib/python3.10/site-packages (from packaging->plotly) (3.0.9)\n"
     ]
    }
   ],
   "source": [
    "import tensorflow as tf\n",
    "import os\n",
    "import pandas as pd\n",
    "import boto3\n",
    "from sklearn.model_selection import train_test_split\n",
    "!pip install SimpleITK\n",
    "import SimpleITK as sitk\n",
    "!pip install plotly\n",
    "import plotly.graph_objects as go\n",
    "import numpy as np\n",
    "import matplotlib.pyplot as plt\n",
    "from mpl_toolkits.mplot3d import Axes3D\n"
   ]
  },
  {
   "cell_type": "code",
   "execution_count": null,
   "id": "b1dec079-5ea0-4c59-9cdb-30eb1cc67ee7",
   "metadata": {
    "tags": []
   },
   "outputs": [],
   "source": [
    "can = pd.read_csv(\"candidates_V2.csv\")\n",
    "can = can.drop(columns=[\"coordX\", \"coordY\", \"coordZ\"])\n",
    "can = can.drop_duplicates(subset=\"seriesuid\")"
   ]
  },
  {
   "cell_type": "code",
   "execution_count": null,
   "id": "bc97412c-ceae-40ea-98f2-cf7f7fa8770f",
   "metadata": {
    "tags": []
   },
   "outputs": [],
   "source": [
    "s3client = boto3.client('s3')\n",
    "bucket = 'fastvision.ai'\n",
    "\n",
    "s3objects= s3client.list_objects_v2(Bucket=bucket, Prefix=\"segmented_data/LUNA16_segmented_2mm/\" )\n",
    "files = []\n",
    "for object in s3objects['Contents']:\n",
    "    split = object['Key'].split(\"/\")\n",
    "    if \".mhd\" in split[-1]:\n",
    "        files.append(split[-1])"
   ]
  },
  {
   "cell_type": "code",
   "execution_count": null,
   "id": "e34fa533-ac96-4b3d-9225-893fa2c47493",
   "metadata": {
    "tags": []
   },
   "outputs": [],
   "source": [
    "files = [file[:-4] for file in files]\n",
    "metadata = pd.DataFrame(files, columns=[\"seriesuid\"])\n",
    "joined = pd.merge(metadata, can, how='left')"
   ]
  },
  {
   "cell_type": "code",
   "execution_count": null,
   "id": "1c4ec05e-218a-4e06-91c0-36bd4b418155",
   "metadata": {
    "tags": []
   },
   "outputs": [],
   "source": [
    "train, train = train_test_split(joined, test_size=0.3, random_state=42, stratify=joined[['class']])"
   ]
  },
  {
   "cell_type": "code",
   "execution_count": null,
   "id": "b2bff40a-d519-47b1-998e-3f1b9d5ff245",
   "metadata": {
    "tags": []
   },
   "outputs": [],
   "source": [
    "val, test = train_test_split(val_test, test_size=0.5, random_state=42, stratify=val_test[['class']])"
   ]
  },
  {
   "cell_type": "code",
   "execution_count": null,
   "id": "9b124a4c-6ad6-4243-a7ba-93870da4b6bf",
   "metadata": {
    "tags": []
   },
   "outputs": [],
   "source": [
    "train = train.reset_index(drop=True)\n",
    "val = val.reset_index(drop=True)\n",
    "test = test.reset_index(drop=True)"
   ]
  },
  {
   "cell_type": "code",
   "execution_count": null,
   "id": "ece72686-0899-4ef1-a1b8-e08febc0ab34",
   "metadata": {
    "tags": []
   },
   "outputs": [],
   "source": [
    "train.to_csv(\"train.csv\")\n",
    "val.to_csv(\"val.csv\")\n",
    "test.to_csv(\"test.csv\")"
   ]
  },
  {
   "cell_type": "code",
   "execution_count": 4,
   "id": "2ea2f322-8711-48f1-bb5b-c51fcf631226",
   "metadata": {
    "tags": []
   },
   "outputs": [],
   "source": [
    "metadata_test = pd.read_csv(\"metadata_test.csv\")\n",
    "metadata_test = metadata_test[metadata_test.seriesuid != \"1.3.6.1.4.1.14519.5.2.1.6279.6001.100620385482151095585000946543\"]"
   ]
  },
  {
   "cell_type": "code",
   "execution_count": 5,
   "id": "6161ede0-af3d-4254-8ba3-f28bca7e1c30",
   "metadata": {
    "tags": []
   },
   "outputs": [],
   "source": [
    "data_dir = \".\"\n",
    "def process(data, label):\n",
    "    file_path = os.path.join(data_dir, data.numpy().decode(\"utf-8\") + \".mhd\")\n",
    "    ct_scan = sitk.ReadImage(file_path)\n",
    "    ct_scan = sitk.GetArrayFromImage(ct_scan)\n",
    "    return ct_scan, label\n",
    "\n",
    "def _expand_dims(data, label):\n",
    "        return tf.expand_dims(data, axis=3), label"
   ]
  },
  {
   "cell_type": "code",
   "execution_count": 6,
   "id": "d1b6dff7-f4b5-470a-a303-d5975f203734",
   "metadata": {
    "tags": []
   },
   "outputs": [],
   "source": [
    "dataset = tf.data.Dataset.from_tensor_slices((metadata_test[\"seriesuid\"].values, metadata_test[\"class\"].values)) \\\n",
    ".map(\n",
    "    lambda x, y: tf.py_function(\n",
    "        process,\n",
    "        [x, y],\n",
    "        Tout=(tf.float32, tf.int64))) \\\n",
    ".map(lambda x, y: _expand_dims(x, y))"
   ]
  },
  {
   "cell_type": "code",
   "execution_count": 7,
   "id": "d3eaffa9-8624-4234-acc9-7026198b27da",
   "metadata": {
    "tags": []
   },
   "outputs": [],
   "source": [
    "for data, label in dataset.batch(5).take(1):\n",
    "    data = data"
   ]
  }
 ],
 "metadata": {
  "kernelspec": {
   "display_name": "conda_tensorflow2_p310",
   "language": "python",
   "name": "conda_tensorflow2_p310"
  },
  "language_info": {
   "codemirror_mode": {
    "name": "ipython",
    "version": 3
   },
   "file_extension": ".py",
   "mimetype": "text/x-python",
   "name": "python",
   "nbconvert_exporter": "python",
   "pygments_lexer": "ipython3",
   "version": "3.10.10"
  }
 },
 "nbformat": 4,
 "nbformat_minor": 5
}
