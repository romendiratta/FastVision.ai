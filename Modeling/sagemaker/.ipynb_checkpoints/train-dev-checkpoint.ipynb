{
 "cells": [
  {
   "cell_type": "code",
   "execution_count": 75,
   "id": "561f27cc-ae84-4954-92ee-f8b856f9b2e0",
   "metadata": {
    "tags": []
   },
   "outputs": [],
   "source": [
    "import tensorflow as tf\n",
    "import os\n",
    "import pandas as pd\n",
    "import boto3"
   ]
  },
  {
   "cell_type": "code",
   "execution_count": 37,
   "id": "00453889-631b-4c4e-8828-939ab513099c",
   "metadata": {
    "tags": []
   },
   "outputs": [],
   "source": [
    "list_ds = tf.data.Dataset.list_files(\"/home/ec2-user/SageMaker/FastVision.ai/Modeling/sagemaker/*.mhd\")"
   ]
  },
  {
   "cell_type": "code",
   "execution_count": 44,
   "id": "c5067231-50c1-449f-ac11-c815ff1dc0b8",
   "metadata": {
    "tags": []
   },
   "outputs": [
    {
     "name": "stdout",
     "output_type": "stream",
     "text": [
      "Tensor(\"args_0:0\", shape=(), dtype=string)\n"
     ]
    },
    {
     "data": {
      "text/plain": [
       "<_MapDataset element_spec=TensorSpec(shape=(), dtype=tf.int32, name=None)>"
      ]
     },
     "execution_count": 44,
     "metadata": {},
     "output_type": "execute_result"
    }
   ],
   "source": [
    "list_ds.map(process)"
   ]
  },
  {
   "cell_type": "code",
   "execution_count": 33,
   "id": "507130b4-0c8f-419b-ae06-70c397109d8d",
   "metadata": {
    "tags": []
   },
   "outputs": [],
   "source": [
    "def process(file_name):\n",
    "    print(file_name)\n",
    "    return 0"
   ]
  },
  {
   "cell_type": "code",
   "execution_count": 59,
   "id": "e050020d-f2ee-42c7-b3b3-a1dab8894f5f",
   "metadata": {
    "tags": []
   },
   "outputs": [],
   "source": [
    "from sklearn.model_selection import train_test_split"
   ]
  },
  {
   "cell_type": "code",
   "execution_count": 47,
   "id": "793fcd6a-b475-43c5-8cb0-d604d9fef103",
   "metadata": {
    "tags": []
   },
   "outputs": [],
   "source": [
    "metadata = pd.read_csv(os.path.join(args.data_dir, \"metadata.csv\")).unique()"
   ]
  },
  {
   "cell_type": "code",
   "execution_count": 84,
   "id": "b1dec079-5ea0-4c59-9cdb-30eb1cc67ee7",
   "metadata": {
    "tags": []
   },
   "outputs": [
    {
     "data": {
      "text/html": [
       "<div>\n",
       "<style scoped>\n",
       "    .dataframe tbody tr th:only-of-type {\n",
       "        vertical-align: middle;\n",
       "    }\n",
       "\n",
       "    .dataframe tbody tr th {\n",
       "        vertical-align: top;\n",
       "    }\n",
       "\n",
       "    .dataframe thead th {\n",
       "        text-align: right;\n",
       "    }\n",
       "</style>\n",
       "<table border=\"1\" class=\"dataframe\">\n",
       "  <thead>\n",
       "    <tr style=\"text-align: right;\">\n",
       "      <th></th>\n",
       "      <th>seriesuid</th>\n",
       "      <th>coordX</th>\n",
       "      <th>coordY</th>\n",
       "      <th>coordZ</th>\n",
       "      <th>diameter_mm</th>\n",
       "    </tr>\n",
       "  </thead>\n",
       "  <tbody>\n",
       "    <tr>\n",
       "      <th>0</th>\n",
       "      <td>1.3.6.1.4.1.14519.5.2.1.6279.6001.100225287222...</td>\n",
       "      <td>-128.699421</td>\n",
       "      <td>-175.319272</td>\n",
       "      <td>-298.387506</td>\n",
       "      <td>5.651471</td>\n",
       "    </tr>\n",
       "    <tr>\n",
       "      <th>1</th>\n",
       "      <td>1.3.6.1.4.1.14519.5.2.1.6279.6001.100225287222...</td>\n",
       "      <td>103.783651</td>\n",
       "      <td>-211.925149</td>\n",
       "      <td>-227.121250</td>\n",
       "      <td>4.224708</td>\n",
       "    </tr>\n",
       "    <tr>\n",
       "      <th>2</th>\n",
       "      <td>1.3.6.1.4.1.14519.5.2.1.6279.6001.100398138793...</td>\n",
       "      <td>69.639017</td>\n",
       "      <td>-140.944586</td>\n",
       "      <td>876.374496</td>\n",
       "      <td>5.786348</td>\n",
       "    </tr>\n",
       "    <tr>\n",
       "      <th>3</th>\n",
       "      <td>1.3.6.1.4.1.14519.5.2.1.6279.6001.100621383016...</td>\n",
       "      <td>-24.013824</td>\n",
       "      <td>192.102405</td>\n",
       "      <td>-391.081276</td>\n",
       "      <td>8.143262</td>\n",
       "    </tr>\n",
       "    <tr>\n",
       "      <th>4</th>\n",
       "      <td>1.3.6.1.4.1.14519.5.2.1.6279.6001.100621383016...</td>\n",
       "      <td>2.441547</td>\n",
       "      <td>172.464881</td>\n",
       "      <td>-405.493732</td>\n",
       "      <td>18.545150</td>\n",
       "    </tr>\n",
       "    <tr>\n",
       "      <th>...</th>\n",
       "      <td>...</td>\n",
       "      <td>...</td>\n",
       "      <td>...</td>\n",
       "      <td>...</td>\n",
       "      <td>...</td>\n",
       "    </tr>\n",
       "    <tr>\n",
       "      <th>1181</th>\n",
       "      <td>1.3.6.1.4.1.14519.5.2.1.6279.6001.994459772950...</td>\n",
       "      <td>-160.856298</td>\n",
       "      <td>-28.560349</td>\n",
       "      <td>-269.168728</td>\n",
       "      <td>5.053694</td>\n",
       "    </tr>\n",
       "    <tr>\n",
       "      <th>1182</th>\n",
       "      <td>1.3.6.1.4.1.14519.5.2.1.6279.6001.994459772950...</td>\n",
       "      <td>-102.189570</td>\n",
       "      <td>-73.865766</td>\n",
       "      <td>-220.536241</td>\n",
       "      <td>4.556101</td>\n",
       "    </tr>\n",
       "    <tr>\n",
       "      <th>1183</th>\n",
       "      <td>1.3.6.1.4.1.14519.5.2.1.6279.6001.994459772950...</td>\n",
       "      <td>-37.535409</td>\n",
       "      <td>64.041949</td>\n",
       "      <td>-127.687101</td>\n",
       "      <td>4.357368</td>\n",
       "    </tr>\n",
       "    <tr>\n",
       "      <th>1184</th>\n",
       "      <td>1.3.6.1.4.1.14519.5.2.1.6279.6001.997611074084...</td>\n",
       "      <td>43.196112</td>\n",
       "      <td>74.438486</td>\n",
       "      <td>-200.523314</td>\n",
       "      <td>4.277203</td>\n",
       "    </tr>\n",
       "    <tr>\n",
       "      <th>1185</th>\n",
       "      <td>1.3.6.1.4.1.14519.5.2.1.6279.6001.997611074084...</td>\n",
       "      <td>-21.958478</td>\n",
       "      <td>33.486096</td>\n",
       "      <td>-155.292026</td>\n",
       "      <td>23.802913</td>\n",
       "    </tr>\n",
       "  </tbody>\n",
       "</table>\n",
       "<p>1186 rows × 5 columns</p>\n",
       "</div>"
      ],
      "text/plain": [
       "                                              seriesuid      coordX  \\\n",
       "0     1.3.6.1.4.1.14519.5.2.1.6279.6001.100225287222... -128.699421   \n",
       "1     1.3.6.1.4.1.14519.5.2.1.6279.6001.100225287222...  103.783651   \n",
       "2     1.3.6.1.4.1.14519.5.2.1.6279.6001.100398138793...   69.639017   \n",
       "3     1.3.6.1.4.1.14519.5.2.1.6279.6001.100621383016...  -24.013824   \n",
       "4     1.3.6.1.4.1.14519.5.2.1.6279.6001.100621383016...    2.441547   \n",
       "...                                                 ...         ...   \n",
       "1181  1.3.6.1.4.1.14519.5.2.1.6279.6001.994459772950... -160.856298   \n",
       "1182  1.3.6.1.4.1.14519.5.2.1.6279.6001.994459772950... -102.189570   \n",
       "1183  1.3.6.1.4.1.14519.5.2.1.6279.6001.994459772950...  -37.535409   \n",
       "1184  1.3.6.1.4.1.14519.5.2.1.6279.6001.997611074084...   43.196112   \n",
       "1185  1.3.6.1.4.1.14519.5.2.1.6279.6001.997611074084...  -21.958478   \n",
       "\n",
       "          coordY      coordZ  diameter_mm  \n",
       "0    -175.319272 -298.387506     5.651471  \n",
       "1    -211.925149 -227.121250     4.224708  \n",
       "2    -140.944586  876.374496     5.786348  \n",
       "3     192.102405 -391.081276     8.143262  \n",
       "4     172.464881 -405.493732    18.545150  \n",
       "...          ...         ...          ...  \n",
       "1181  -28.560349 -269.168728     5.053694  \n",
       "1182  -73.865766 -220.536241     4.556101  \n",
       "1183   64.041949 -127.687101     4.357368  \n",
       "1184   74.438486 -200.523314     4.277203  \n",
       "1185   33.486096 -155.292026    23.802913  \n",
       "\n",
       "[1186 rows x 5 columns]"
      ]
     },
     "execution_count": 84,
     "metadata": {},
     "output_type": "execute_result"
    }
   ],
   "source": [
    "annotations = pd.read_csv(\"annotations.csv\")\n",
    "annotations "
   ]
  },
  {
   "cell_type": "code",
   "execution_count": 82,
   "id": "bc97412c-ceae-40ea-98f2-cf7f7fa8770f",
   "metadata": {
    "tags": []
   },
   "outputs": [],
   "source": [
    "s3client = boto3.client('s3')\n",
    "bucket = 'fastvision.ai'\n",
    "\n",
    "s3objects= s3client.list_objects_v2(Bucket=bucket, Prefix=\"segmented_data/LUNA16_segmented_2mm/\" )\n",
    "files = []\n",
    "for object in s3objects['Contents']:\n",
    "    split = object['Key'].split(\"/\")\n",
    "    if \".mhd\" in split[-1]:\n",
    "        files.append(split[-1])"
   ]
  },
  {
   "cell_type": "code",
   "execution_count": 83,
   "id": "0054691b-32ab-4fcc-bfac-943775741085",
   "metadata": {
    "tags": []
   },
   "outputs": [
    {
     "data": {
      "text/plain": [
       "445"
      ]
     },
     "execution_count": 83,
     "metadata": {},
     "output_type": "execute_result"
    }
   ],
   "source": [
    "len(files)"
   ]
  },
  {
   "cell_type": "code",
   "execution_count": 63,
   "id": "2eca59c2-09f9-4734-9c21-5ef24cf7154f",
   "metadata": {
    "tags": []
   },
   "outputs": [
    {
     "data": {
      "text/plain": [
       "2268"
      ]
     },
     "execution_count": 63,
     "metadata": {},
     "output_type": "execute_result"
    }
   ],
   "source": [
    "metadata.size"
   ]
  },
  {
   "cell_type": "code",
   "execution_count": 67,
   "id": "1c4ec05e-218a-4e06-91c0-36bd4b418155",
   "metadata": {
    "tags": []
   },
   "outputs": [],
   "source": [
    "train, test = train_test_split(metadata, test_size=0.3, random_state=42, stratify=metadata[['class']])"
   ]
  },
  {
   "cell_type": "code",
   "execution_count": 68,
   "id": "b2bff40a-d519-47b1-998e-3f1b9d5ff245",
   "metadata": {
    "tags": []
   },
   "outputs": [
    {
     "data": {
      "text/plain": [
       "1587"
      ]
     },
     "execution_count": 68,
     "metadata": {},
     "output_type": "execute_result"
    }
   ],
   "source": [
    "train.size"
   ]
  },
  {
   "cell_type": "code",
   "execution_count": 69,
   "id": "ceda57e5-1b57-4ad6-8074-c9832df513a3",
   "metadata": {
    "tags": []
   },
   "outputs": [
    {
     "data": {
      "text/plain": [
       "681"
      ]
     },
     "execution_count": 69,
     "metadata": {},
     "output_type": "execute_result"
    }
   ],
   "source": [
    "test.size"
   ]
  }
 ],
 "metadata": {
  "kernelspec": {
   "display_name": "conda_tensorflow2_p310",
   "language": "python",
   "name": "conda_tensorflow2_p310"
  },
  "language_info": {
   "codemirror_mode": {
    "name": "ipython",
    "version": 3
   },
   "file_extension": ".py",
   "mimetype": "text/x-python",
   "name": "python",
   "nbconvert_exporter": "python",
   "pygments_lexer": "ipython3",
   "version": "3.10.10"
  }
 },
 "nbformat": 4,
 "nbformat_minor": 5
}
