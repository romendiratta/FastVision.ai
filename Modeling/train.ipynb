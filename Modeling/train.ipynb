{
 "cells": [
  {
   "cell_type": "code",
   "execution_count": 1,
   "id": "8133dede-ca7b-41e5-a6ad-c5bd429c152a",
   "metadata": {
    "tags": []
   },
   "outputs": [],
   "source": [
    "import argparse\n",
    "import json\n",
    "import logging\n",
    "import os\n",
    "import sys\n",
    "import math\n",
    "\n",
    "import torch\n",
    "import torch.distributed as dist\n",
    "import torch.nn.functional as F\n",
    "import torch.optim as optim\n",
    "import torch.utils.data\n",
    "import torch.utils.data.distributed\n",
    "from torchvision import datasets, transforms"
   ]
  },
  {
   "cell_type": "code",
   "execution_count": 2,
   "id": "1cd1a20c-5718-493e-b2b3-1a457d05226a",
   "metadata": {
    "tags": []
   },
   "outputs": [],
   "source": [
    "import boto3\n",
    "import pandas as pd\n",
    "from io import StringIO"
   ]
  },
  {
   "cell_type": "code",
   "execution_count": 3,
   "id": "180ebbdc-8d65-4ac1-909e-44dddc5031c7",
   "metadata": {
    "tags": []
   },
   "outputs": [],
   "source": [
    "client = boto3.client('s3')\n",
    "\n",
    "bucket_name = 'fastvision.ai'\n",
    "\n",
    "object_key = 'raw-data/luna16/candidates_V2/candidates_V2.csv'\n",
    "csv_obj = client.get_object(Bucket=bucket_name, Key=object_key)\n",
    "body = csv_obj['Body']\n",
    "csv_string = body.read().decode('utf-8')\n",
    "\n",
    "metadata = pd.read_csv(StringIO(csv_string)).drop(columns=[\"coordX\", \"coordY\", \"coordZ\"]).drop_duplicates()"
   ]
  },
  {
   "cell_type": "code",
   "execution_count": 4,
   "id": "96c04f2c-d244-4ddc-a3f0-b7c6ef46fe3f",
   "metadata": {
    "tags": []
   },
   "outputs": [],
   "source": [
    "objects = client.list_objects_v2(Bucket=bucket_name, Prefix=\"segmented_data/LUNA16_segmented_2mm\")\n",
    "\n",
    "uuids = list()\n",
    "for obj in objects['Contents']:\n",
    "    uuids.append(obj['Key'].split(\"/\")[-1][:-4])"
   ]
  },
  {
   "cell_type": "code",
   "execution_count": null,
   "id": "8b96915a-e061-4f3d-b0a2-e17e47ac89b1",
   "metadata": {
    "tags": []
   },
   "outputs": [],
   "source": [
    "metadata = metadata[metadata.seriesuid.isin(uuids)]"
   ]
  }
 ],
 "metadata": {
  "kernelspec": {
   "display_name": "conda_pytorch_p310",
   "language": "python",
   "name": "conda_pytorch_p310"
  },
  "language_info": {
   "codemirror_mode": {
    "name": "ipython",
    "version": 3
   },
   "file_extension": ".py",
   "mimetype": "text/x-python",
   "name": "python",
   "nbconvert_exporter": "python",
   "pygments_lexer": "ipython3",
   "version": "3.10.10"
  }
 },
 "nbformat": 4,
 "nbformat_minor": 5
}
